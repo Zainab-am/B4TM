{
 "cells": [
  {
   "cell_type": "code",
   "execution_count": 1,
   "id": "190bace7-ced3-4b33-8f39-fe27d531b951",
   "metadata": {},
   "outputs": [],
   "source": [
    "#Imports\n",
    "import pandas as pd\n",
    "import numpy as np\n",
    "from sklearn.model_selection import train_test_split\n",
    "from sklearn.pipeline import make_pipeline\n",
    "from sklearn.preprocessing import StandardScaler\n",
    "from sklearn.svm import SVC\n",
    "import matplotlib.pyplot as plt\n",
    "import seaborn as sns\n"
   ]
  },
  {
   "cell_type": "code",
   "execution_count": 2,
   "id": "f5396249",
   "metadata": {},
   "outputs": [],
   "source": [
    "merged = pd.read_csv(\"data/merged_data.csv\")\n",
    "train_call = pd.read_csv(\"data/Train_call.csv\")\n",
    "train_clinical = pd.read_csv(\"data/Train_clinical.csv\")"
   ]
  },
  {
   "cell_type": "code",
   "execution_count": 3,
   "id": "99c9da2e",
   "metadata": {},
   "outputs": [
    {
     "data": {
      "text/plain": [
       "<Axes: xlabel='Subgroup', ylabel='count'>"
      ]
     },
     "execution_count": 3,
     "metadata": {},
     "output_type": "execute_result"
    },
    {
     "data": {
      "image/png": "[encoded data removed]",
      "text/plain": [
       "<Figure size 640x480 with 1 Axes>"
      ]
     },
     "metadata": {},
     "output_type": "display_data"
    }
   ],
   "source": [
    "#some exploration\n",
    "# merged.shape\n",
    "# merged.head()\n",
    "sns.countplot(x = 'Subgroup', data = merged)"
   ]
  },
  {
   "cell_type": "code",
   "execution_count": 4,
   "id": "6190bbb5",
   "metadata": {},
   "outputs": [
    {
     "name": "stdout",
     "output_type": "stream",
     "text": [
      "              precision    recall  f1-score   support\n",
      "\n",
      "       HER2+       0.86      1.00      0.92         6\n",
      "         HR+       0.75      0.75      0.75         8\n",
      "  Triple Neg       0.60      0.50      0.55         6\n",
      "\n",
      "    accuracy                           0.75        20\n",
      "   macro avg       0.74      0.75      0.74        20\n",
      "weighted avg       0.74      0.75      0.74        20\n",
      "\n"
     ]
    },
    {
     "data": {
      "text/plain": [
       "<sklearn.metrics._plot.confusion_matrix.ConfusionMatrixDisplay at 0x1c15152e450>"
      ]
     },
     "execution_count": 4,
     "metadata": {},
     "output_type": "execute_result"
    },
    {
     "data": {
      "image/png": "[encoded data removed]",
      "text/plain": [
       "<Figure size 640x480 with 2 Axes>"
      ]
     },
     "metadata": {},
     "output_type": "display_data"
    }
   ],
   "source": [
    "#Model training\n",
    "from sklearn import svm\n",
    "from sklearn.metrics import classification_report, confusion_matrix, ConfusionMatrixDisplay\n",
    "labels = merged[['Sample', 'Subgroup']].set_index(\"Sample\")\n",
    "x = merged.drop(['Subgroup'], axis = 1).set_index(\"Sample\")\n",
    "y = labels.values.flatten()\n",
    "\n",
    "#data splitten\n",
    "X_train, X_test, y_train, y_test = train_test_split(x, y, test_size=0.2,random_state=42) \n",
    "\n",
    "#classifier\n",
    "svm_clf = svm.SVC(kernel = 'linear')\n",
    "svm_clf.fit(X_train, y_train)\n",
    "y_pred = svm_clf.predict(X_test)\n",
    "\n",
    "#accuracy, precision en recall checken\n",
    "print(classification_report(y_test, y_pred))\n",
    "\n",
    "#confusion matrix\n",
    "cm_svm = confusion_matrix(y_test, y_pred)\n",
    "ConfusionMatrixDisplay(confusion_matrix= cm_svm).plot()"
   ]
  },
  {
   "cell_type": "code",
   "execution_count": 7,
   "id": "38e38ac3",
   "metadata": {},
   "outputs": [
    {
     "name": "stdout",
     "output_type": "stream",
     "text": [
      "The mean score using nested cross-validation is: 0.660 ± 0.128\n",
      "Best Model: SVC(C=11.20186352992811, gamma=0.1, kernel='linear')\n",
      "Best Parameters: {'C': 11.20186352992811, 'gamma': 0.1, 'kernel': 'linear'}\n"
     ]
    }
   ],
   "source": [
    "from sklearn.model_selection import StratifiedKFold, RandomizedSearchCV, cross_val_score\n",
    "from scipy import stats\n",
    "from scipy.stats import uniform \n",
    "\n",
    "x = merged.drop(['Subgroup'], axis = 1).set_index(\"Sample\")\n",
    "y = labels.values.flatten()\n",
    "\n",
    "svm_clf = svm.SVC(kernel = 'linear')\n",
    "\n",
    "param_distributions = {\n",
    "    \"C\": stats.uniform(0.1, 20),\n",
    "    'kernel': ['linear', 'rbf', 'poly'],\n",
    "             \"gamma\": [\"scale\", \"auto\", 1, 0.1, 0.01, 0.001]}\n",
    "\n",
    "outer_cv = StratifiedKFold(n_splits=5, shuffle=True, random_state=42)\n",
    "inner_cv = StratifiedKFold(n_splits=3, shuffle=True, random_state=42)\n",
    "\n",
    "\n",
    "# Inner cross-validation for parameter search\n",
    "model = RandomizedSearchCV(\n",
    "    estimator= svm_clf, param_distributions= param_distributions, cv=inner_cv, n_jobs=8\n",
    ")\n",
    "model.fit(x, y)\n",
    "# Outer cross-validation to compute the testing score\n",
    "test_score = cross_val_score(model, x, y, cv=outer_cv, n_jobs=8)\n",
    "print(\n",
    "    \"The mean score using nested cross-validation is: \"\n",
    "    f\"{test_score.mean():.3f} ± {test_score.std():.3f}\"\n",
    ")\n",
    "\n",
    "# if you want to see the parms you can use these print statements. \n",
    "\n",
    "best_model = model.best_estimator_\n",
    "\n",
    "# Get the best parameters\n",
    "best_params = model.best_params_\n",
    "\n",
    "print(\"Best Model:\", best_model)\n",
    "print(\"Best Parameters:\", best_params)"
   ]
  },
  {
   "cell_type": "code",
   "execution_count": 21,
   "id": "deb54044",
   "metadata": {},
   "outputs": [
    {
     "name": "stdout",
     "output_type": "stream",
     "text": [
      "0.158472937358402\n"
     ]
    }
   ],
   "source": [
    "# cv_results = svm_hyper_rand.cv_results_\n",
    "# metric_scores = cv_results['mean_test_score']\n",
    "# std_deviation = np.std(metric_scores)\n",
    "# print(std_deviation)"
   ]
  },
  {
   "cell_type": "code",
   "execution_count": 16,
   "id": "5d378e92",
   "metadata": {},
   "outputs": [
    {
     "name": "stdout",
     "output_type": "stream",
     "text": [
      "              precision    recall  f1-score   support\n",
      "\n",
      "       HER2+       0.86      1.00      0.92         6\n",
      "         HR+       0.75      0.75      0.75         8\n",
      "  Triple Neg       0.60      0.50      0.55         6\n",
      "\n",
      "    accuracy                           0.75        20\n",
      "   macro avg       0.74      0.75      0.74        20\n",
      "weighted avg       0.74      0.75      0.74        20\n",
      "\n"
     ]
    },
    {
     "data": {
      "text/plain": [
       "<sklearn.metrics._plot.confusion_matrix.ConfusionMatrixDisplay at 0x248ae9b4750>"
      ]
     },
     "execution_count": 16,
     "metadata": {},
     "output_type": "execute_result"
    },
    {
     "data": {
      "image/png": "[encoded data removed]",
      "text/plain": [
       "<Figure size 640x480 with 2 Axes>"
      ]
     },
     "metadata": {},
     "output_type": "display_data"
    }
   ],
   "source": [
    "svm_clf_rand = SVC(C = 19.7, gamma = 0.01, kernel = 'linear')\n",
    "svm_clf_rand.fit(X_train, y_train)\n",
    "y_pred = svm_clf_rand.predict(X_test)\n",
    "\n",
    "#accuracy, precision en recall checken\n",
    "print(classification_report(y_test, y_pred))\n",
    "\n",
    "#confusion matrix\n",
    "cm_svm_rand = confusion_matrix(y_test, y_pred)\n",
    "ConfusionMatrixDisplay(confusion_matrix= cm_svm_rand).plot()"
   ]
  },
  {
   "cell_type": "code",
   "execution_count": null,
   "id": "0a129159",
   "metadata": {},
   "outputs": [],
   "source": [
    "#hyperparameter tuning, je kan de C, de kernel en de gamma tunen\n",
    "# from sklearn.model_selection import RandomizedSearchCV\n",
    "# from scipy import stats\n",
    "# from scipy.stats import uniform\n",
    "# from sklearn.metrics import accuracy_score\n",
    "\n",
    "# param_dist = {\n",
    "#     'C': uniform(0.1, 20), \n",
    "#     'kernel': ['linear', 'rbf', 'poly'],\n",
    "#     'gamma': ['scale', 'auto'] + list(np.logspace(-3, 3, 50))\n",
    "# }\n",
    "\n",
    "# param_dist = {\n",
    "#     \"C\": stats.uniform(2, 30),\n",
    "#     'kernel': ['linear', 'rbf', 'poly'],\n",
    "#              \"gamma\": [\"scale\", \"auto\", 1, 0.1, 0.01, 0.001]}\n",
    "\n",
    "# svm_hyper_rand = RandomizedSearchCV(estimator= svm_clf, param_distributions=param_dist, n_iter=20, cv=5)\n",
    "# svm_hyper_rand.fit(X_train, y_train)\n",
    "\n",
    "# # Get the best hyperparameters and model\n",
    "# best_params_rand = svm_hyper_rand.best_params_\n",
    "# best_model_rand = svm_hyper_rand.best_estimator_\n",
    "\n",
    "# # Evaluate the best model\n",
    "# y_pred_best_rand = best_model_rand.predict(X_test)\n",
    "# accuracy_best_rand = accuracy_score(y_test, y_pred_best_rand)\n",
    "# print(f\"Best SVM Accuracy: {accuracy_best_rand:.2f}\")\n",
    "# print(f\"Best Hyperparameters: {best_params_rand}\")"
   ]
  }
 ],
 "metadata": {
  "kernelspec": {
   "display_name": "Python 3 (ipykernel)",
   "language": "python",
   "name": "python3"
  },
  "language_info": {
   "codemirror_mode": {
    "name": "ipython",
    "version": 3
   },
   "file_extension": ".py",
   "mimetype": "text/x-python",
   "name": "python",
   "nbconvert_exporter": "python",
   "pygments_lexer": "ipython3",
   "version": "3.11.5"
  }
 },
 "nbformat": 4,
 "nbformat_minor": 5
}
