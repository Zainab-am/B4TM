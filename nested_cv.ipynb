{
 "cells": [
  {
   "cell_type": "code",
   "execution_count": 1,
   "metadata": {},
   "outputs": [
    {
     "ename": "NameError",
     "evalue": "name 'merged_df' is not defined",
     "output_type": "error",
     "traceback": [
      "\u001b[0;31m---------------------------------------------------------------------------\u001b[0m",
      "\u001b[0;31mNameError\u001b[0m                                 Traceback (most recent call last)",
      "Input \u001b[0;32mIn [1]\u001b[0m, in \u001b[0;36m<cell line: 6>\u001b[0;34m()\u001b[0m\n\u001b[1;32m      1\u001b[0m \u001b[38;5;66;03m# FOR X and Y you need to change it to the name of your dataset and drop the.\u001b[39;00m\n\u001b[1;32m      2\u001b[0m \u001b[38;5;66;03m# For the param_distribution you need to change it to the parmameters you want to test for your model\u001b[39;00m\n\u001b[0;32m----> 6\u001b[0m X \u001b[38;5;241m=\u001b[39m \u001b[43mmerged_df\u001b[49m\u001b[38;5;241m.\u001b[39mdrop([\u001b[38;5;124m'\u001b[39m\u001b[38;5;124mSample\u001b[39m\u001b[38;5;124m'\u001b[39m, \u001b[38;5;124m'\u001b[39m\u001b[38;5;124mSubgroup\u001b[39m\u001b[38;5;124m'\u001b[39m], axis\u001b[38;5;241m=\u001b[39m\u001b[38;5;241m1\u001b[39m)\n\u001b[1;32m      7\u001b[0m y \u001b[38;5;241m=\u001b[39m merged_df[\u001b[38;5;124m'\u001b[39m\u001b[38;5;124mSubgroup\u001b[39m\u001b[38;5;124m'\u001b[39m]\n\u001b[1;32m      8\u001b[0m rf_classifier \u001b[38;5;241m=\u001b[39m RandomForestClassifier(n_estimators\u001b[38;5;241m=\u001b[39m\u001b[38;5;241m100\u001b[39m, random_state\u001b[38;5;241m=\u001b[39m\u001b[38;5;241m42\u001b[39m)\n",
      "\u001b[0;31mNameError\u001b[0m: name 'merged_df' is not defined"
     ]
    }
   ],
   "source": [
    "# FOR X and Y you need to change it to the name of your dataset and drop the.\n",
    "# For the param_distribution you need to change it to the parmameters you want to test for your model\n",
    "\n",
    "\n",
    "\n",
    "X = merged_df.drop(['Sample', 'Subgroup'], axis=1)\n",
    "y = merged_df['Subgroup']\n",
    "rf_classifier = RandomForestClassifier(n_estimators=100, random_state=42)\n",
    "param_distributions = {\n",
    "    'n_estimators': [50, 100, 200],\n",
    "    'max_depth': [None, 5, 7,3, 10],\n",
    "    'min_samples_split': [2, 5, 10]\n",
    "}\n",
    "\n",
    "outer_cv = StratifiedKFold(n_splits=5, shuffle=True, random_state=42)\n",
    "inner_cv = StratifiedKFold(n_splits=3, shuffle=True, random_state=42)\n",
    "\n",
    "\n",
    "# Inner cross-validation for parameter search\n",
    "model = RandomizedSearchCV(\n",
    "    estimator= rf_classifier, param_distributions= param_distributions, cv=inner_cv, n_jobs=8\n",
    ")\n",
    "model.fit(X, y)\n",
    "# Outer cross-validation to compute the testing score\n",
    "test_score = cross_val_score(model, X, y, cv=outer_cv, n_jobs=8)\n",
    "print(\n",
    "    \"The mean score using nested cross-validation is: \"\n",
    "    f\"{test_score.mean():.3f} ± {test_score.std():.3f}\"\n",
    ")\n",
    "\n",
    "# if you want to see the parms you can use these print statements. \n",
    "\n",
    "best_model = model.best_estimator_\n",
    "\n",
    "# Get the best parameters\n",
    "best_params = model.best_params_\n",
    "\n",
    "print(\"Best Model:\", best_model)\n",
    "print(\"Best Parameters:\", best_params)"
   ]
  },
  {
   "cell_type": "code",
   "execution_count": null,
   "metadata": {},
   "outputs": [],
   "source": []
  }
 ],
 "metadata": {
  "kernelspec": {
   "display_name": "base",
   "language": "python",
   "name": "python3"
  },
  "language_info": {
   "codemirror_mode": {
    "name": "ipython",
    "version": 3
   },
   "file_extension": ".py",
   "mimetype": "text/x-python",
   "name": "python",
   "nbconvert_exporter": "python",
   "pygments_lexer": "ipython3",
   "version": "3.9.12"
  }
 },
 "nbformat": 4,
 "nbformat_minor": 2
}
